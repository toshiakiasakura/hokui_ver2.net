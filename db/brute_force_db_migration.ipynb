{
 "cells": [
  {
   "cell_type": "markdown",
   "metadata": {},
   "source": [
    "# Brute force db migration"
   ]
  },
  {
   "cell_type": "code",
   "execution_count": 1,
   "metadata": {},
   "outputs": [],
   "source": [
    "%load_ext autoreload \n",
    "%autoreload 2\n",
    "import sqlite3 \n",
    "from sqlite3 import Error \n",
    "import sql_tools"
   ]
  },
  {
   "cell_type": "code",
   "execution_count": 2,
   "metadata": {},
   "outputs": [],
   "source": [
    "path_hokui = \"../../app.sqlite3\"\n",
    "path_hokumed = \"./app.sqlite\""
   ]
  },
  {
   "cell_type": "markdown",
   "metadata": {},
   "source": [
    "# basic CRUD"
   ]
  },
  {
   "cell_type": "code",
   "execution_count": 6,
   "metadata": {},
   "outputs": [
    {
     "ename": "NameError",
     "evalue": "name 'sqlConnect' is not defined",
     "output_type": "error",
     "traceback": [
      "\u001b[0;31m---------------------------------------------------------------------------\u001b[0m",
      "\u001b[0;31mNameError\u001b[0m                                 Traceback (most recent call last)",
      "\u001b[0;32m<ipython-input-6-f7908085233c>\u001b[0m in \u001b[0;36m<module>\u001b[0;34m\u001b[0m\n\u001b[0;32m----> 1\u001b[0;31m \u001b[0;34m@\u001b[0m\u001b[0msqlConnect\u001b[0m\u001b[0;34m\u001b[0m\u001b[0;34m\u001b[0m\u001b[0m\n\u001b[0m\u001b[1;32m      2\u001b[0m \u001b[0;32mdef\u001b[0m \u001b[0msqlTable\u001b[0m\u001b[0;34m(\u001b[0m\u001b[0mcon\u001b[0m\u001b[0;34m)\u001b[0m\u001b[0;34m:\u001b[0m\u001b[0;34m\u001b[0m\u001b[0;34m\u001b[0m\u001b[0m\n\u001b[1;32m      3\u001b[0m     \u001b[0mcursorObj\u001b[0m \u001b[0;34m=\u001b[0m \u001b[0mcon\u001b[0m\u001b[0;34m.\u001b[0m\u001b[0mcursor\u001b[0m\u001b[0;34m(\u001b[0m\u001b[0;34m)\u001b[0m\u001b[0;34m\u001b[0m\u001b[0;34m\u001b[0m\u001b[0m\n\u001b[1;32m      4\u001b[0m     \u001b[0mcursorObj\u001b[0m\u001b[0;34m.\u001b[0m\u001b[0mexecute\u001b[0m\u001b[0;34m(\u001b[0m\u001b[0;34m\"CREATE TABLE employees(id integer PRIMARY KEY, name text, salary real, department text, position text, hireDate text)\"\u001b[0m\u001b[0;34m)\u001b[0m\u001b[0;34m\u001b[0m\u001b[0;34m\u001b[0m\u001b[0m\n\u001b[1;32m      5\u001b[0m     \u001b[0mcon\u001b[0m\u001b[0;34m.\u001b[0m\u001b[0mcommit\u001b[0m\u001b[0;34m(\u001b[0m\u001b[0;34m)\u001b[0m\u001b[0;34m\u001b[0m\u001b[0;34m\u001b[0m\u001b[0m\n",
      "\u001b[0;31mNameError\u001b[0m: name 'sqlConnect' is not defined"
     ]
    }
   ],
   "source": [
    "@sqlConnect\n",
    "def sqlTable(con):\n",
    "    cursorObj = con.cursor()\n",
    "    cursorObj.execute(\"CREATE TABLE employees(id integer PRIMARY KEY, name text, salary real, department text, position text, hireDate text)\")\n",
    "    con.commit()\n",
    "\n",
    "sqlTable()"
   ]
  },
  {
   "cell_type": "code",
   "execution_count": null,
   "metadata": {},
   "outputs": [],
   "source": [
    "@sqlConnect\n",
    "def insertPlace(con,entities):\n",
    "    cursorObj = con.cursor()\n",
    "    cursorObj.execute('INSERT INTO employees(id, name, salary, department, position, hireDate) VALUES(?, ?, ?, ?, ?, ?)', entities)\n",
    "    con.commit()   \n",
    "entities = (4, 'Andrew', 800, 'IT', 'Tech', '2018-02-06')\n",
    "insertPlace(entities)"
   ]
  },
  {
   "cell_type": "code",
   "execution_count": null,
   "metadata": {},
   "outputs": [],
   "source": [
    "@sqlConnect\n",
    "def fetchSpecific(con):\n",
    "    cursorObj = con.cursor()\n",
    "    cursorObj.execute('SELECT id, name FROM employees WHERE salary > 750.0')\n",
    "    rows = cursorObj.fetchall()\n",
    "    for row in rows:\n",
    "        print(row)\n",
    "        \n",
    "fetchSpecific()"
   ]
  },
  {
   "cell_type": "markdown",
   "metadata": {},
   "source": [
    "# User migration  "
   ]
  },
  {
   "cell_type": "code",
   "execution_count": 13,
   "metadata": {},
   "outputs": [
    {
     "name": "stdout",
     "output_type": "stream",
     "text": [
      "sqlFetch\n",
      "finish!\n"
     ]
    }
   ],
   "source": [
    "@sql_tools.sqlConnect(path =path_hokui)\n",
    "def sqlFetch(con):\n",
    "    cursorObj = con.cursor()\n",
    "    cursorObj.execute('SELECT * FROM users')\n",
    "    rows = cursorObj.fetchall()\n",
    "    return(rows)\n",
    "\n",
    "user_data = sqlFetch()"
   ]
  },
  {
   "cell_type": "code",
   "execution_count": 22,
   "metadata": {},
   "outputs": [
    {
     "data": {
      "text/plain": [
       "(27,\n",
       " 'applebee@eis.hokudai.ac.jp',\n",
       " '$2a$10$0RFSklrtB6QDm9t1doRrk.Tmlw.3Ewn2iOTXcLYgbu7J6VFBiS5JC',\n",
       " 'jzqZQVJYpEivMVkTvvDC',\n",
       " '2015-04-06 12:09:39.248103',\n",
       " '2018-12-20 14:40:25.592338',\n",
       " 'active',\n",
       " None,\n",
       " None,\n",
       " 'approved',\n",
       " None,\n",
       " None,\n",
       " None,\n",
       " '2019-09-02 05:23:33.293189',\n",
       " '2017-08-07 12:10:58.677370',\n",
       " '2019-09-02 05:26:16.927289',\n",
       " '106.161.233.121',\n",
       " '伊藤',\n",
       " '昂哉',\n",
       " 'ITOxide',\n",
       " '1955-03-31',\n",
       " 'applebeekoyaI@gmail.com',\n",
       " 't',\n",
       " 3,\n",
       " 27)"
      ]
     },
     "execution_count": 22,
     "metadata": {},
     "output_type": "execute_result"
    }
   ],
   "source": [
    "user_data[7]"
   ]
  }
 ],
 "metadata": {
  "kernelspec": {
   "display_name": "Python 3",
   "language": "python",
   "name": "python3"
  },
  "language_info": {
   "codemirror_mode": {
    "name": "ipython",
    "version": 3
   },
   "file_extension": ".py",
   "mimetype": "text/x-python",
   "name": "python",
   "nbconvert_exporter": "python",
   "pygments_lexer": "ipython3",
   "version": "3.7.2"
  }
 },
 "nbformat": 4,
 "nbformat_minor": 4
}
